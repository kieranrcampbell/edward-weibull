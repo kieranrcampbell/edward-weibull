{
 "cells": [
  {
   "cell_type": "code",
   "execution_count": 19,
   "metadata": {
    "collapsed": false
   },
   "outputs": [],
   "source": [
    "import numpy as np\n",
    "import pandas as pd\n",
    "from edward.models import Gamma\n",
    "import edward as ed\n",
    "import tensorflow as tf\n",
    "import matplotlib.pyplot as plt\n",
    "#from weibull import *\n",
    "%run weibull.py\n",
    "%matplotlib inline"
   ]
  },
  {
   "cell_type": "code",
   "execution_count": 20,
   "metadata": {
    "collapsed": false
   },
   "outputs": [],
   "source": [
    "P = 1\n",
    "N = 100\n",
    "w2 = TruncatedWeibull(shape = 1 * tf.ones(P), scale = 1 * tf.ones(P), cens = 2 * tf.ones(P))"
   ]
  },
  {
   "cell_type": "code",
   "execution_count": 22,
   "metadata": {
    "collapsed": false
   },
   "outputs": [],
   "source": [
    "sess = tf.Session()\n",
    "\n",
    "with sess.as_default():\n",
    "    y = w2.sample(100).eval().reshape(-1)"
   ]
  },
  {
   "cell_type": "code",
   "execution_count": 23,
   "metadata": {
    "collapsed": false
   },
   "outputs": [
    {
     "data": {
      "text/plain": [
       "array([ 3.32719088,  2.56861734,  2.04426932,  3.57155252,  2.95205259], dtype=float32)"
      ]
     },
     "execution_count": 23,
     "metadata": {},
     "output_type": "execute_result"
    }
   ],
   "source": [
    "y[0:5]"
   ]
  },
  {
   "cell_type": "code",
   "execution_count": 24,
   "metadata": {
    "collapsed": false
   },
   "outputs": [],
   "source": [
    "## Survival times\n",
    "k = Gamma(alpha = tf.ones(1), beta = tf.ones(1)) # Weibull hyperparameter\n",
    "p = Gamma(alpha = tf.ones(1), beta = tf.ones(1)) # Weibull hyperparameter\n",
    "\n",
    "censoring_times = 4 * tf.ones(P)"
   ]
  },
  {
   "cell_type": "code",
   "execution_count": 25,
   "metadata": {
    "collapsed": false
   },
   "outputs": [],
   "source": [
    "x = TruncatedWeibull(shape = k * tf.ones(N), scale = p * tf.ones(N), cens = censoring_times)\n",
    "\n",
    "x2 = TruncatedWeibull2(shape = k * tf.ones(N), scale = p * tf.ones(N))\n",
    "x2._cens = censoring_times"
   ]
  },
  {
   "cell_type": "code",
   "execution_count": 26,
   "metadata": {
    "collapsed": false
   },
   "outputs": [],
   "source": [
    "ds = tf.contrib.distributions\n",
    "qk = ed.models.TransformedDistribution(\n",
    "    distribution = ed.models.NormalWithSoftplusSigma(mu = tf.Variable(tf.zeros(1)),\n",
    "                                                    sigma = tf.Variable(tf.ones(1))),\n",
    "    bijector = ds.bijector.Exp(),\n",
    "    name = \"qk\"\n",
    ")\n",
    "\n",
    "qp = ed.models.TransformedDistribution(\n",
    "    distribution = ed.models.NormalWithSoftplusSigma(mu = tf.Variable(tf.zeros(1)),\n",
    "                                                    sigma = tf.Variable(tf.ones(1))),\n",
    "    bijector = ds.bijector.Exp(),\n",
    "    name = \"qp\"\n",
    ")"
   ]
  },
  {
   "cell_type": "code",
   "execution_count": 27,
   "metadata": {
    "collapsed": false
   },
   "outputs": [
    {
     "name": "stdout",
     "output_type": "stream",
     "text": [
      "1000/1000 [100%] ██████████████████████████████ Elapsed: 4s | Loss: nan\n"
     ]
    }
   ],
   "source": [
    "# %run weibull.py\n",
    "approx_dict = {\n",
    "    k: qk,\n",
    "    p: qp\n",
    "}\n",
    "\n",
    "data_dict = {\n",
    "    x: y\n",
    "}\n",
    "\n",
    "inference = ed.KLqp(approx_dict, data = data_dict)\n",
    "\n",
    "inference.run()"
   ]
  },
  {
   "cell_type": "code",
   "execution_count": 28,
   "metadata": {
    "collapsed": false
   },
   "outputs": [
    {
     "name": "stdout",
     "output_type": "stream",
     "text": [
      "1000/1000 [100%] ██████████████████████████████ Elapsed: 4s | Loss: 280.205\n"
     ]
    }
   ],
   "source": [
    "# %run weibull.py\n",
    "approx_dict = {\n",
    "    k: qk,\n",
    "    p: qp\n",
    "}\n",
    "\n",
    "data_dict = {\n",
    "    x2: y\n",
    "}\n",
    "\n",
    "inference = ed.KLqp(approx_dict, data = data_dict)\n",
    "\n",
    "inference.run()"
   ]
  }
 ],
 "metadata": {
  "kernelspec": {
   "display_name": "Python 3",
   "language": "python",
   "name": "python3"
  },
  "language_info": {
   "codemirror_mode": {
    "name": "ipython",
    "version": 3
   },
   "file_extension": ".py",
   "mimetype": "text/x-python",
   "name": "python",
   "nbconvert_exporter": "python",
   "pygments_lexer": "ipython3",
   "version": "3.4.3"
  }
 },
 "nbformat": 4,
 "nbformat_minor": 0
}
